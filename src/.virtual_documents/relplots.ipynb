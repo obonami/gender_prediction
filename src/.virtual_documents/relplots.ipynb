


import pandas as pd
from stats import SuffixAverage

orth_preds_x10 = pd.read_csv('../results/echantinom_orth_preds_x10.csv')
suffixes = orth_preds_x10['suffix'].value_counts().to_dict().keys() # to order based on number of samples

for sfx in suffixes:
    sfx_avg = SuffixAverage(orth_preds_x10, sfx)
    sfx_avg.plot(gender='f', scale=True, min_dp=30)


for sfx in ['on', 'ette', 'ant', 'ien', 'ée', 'el']:
    sfx_avg = SuffixAverage(orth_preds_x10, sfx)
    sfx_avg.plot(gender='f', min_dp=30, scale=True)
