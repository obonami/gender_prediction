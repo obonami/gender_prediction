{
 "cells": [
  {
   "cell_type": "code",
   "execution_count": null,
   "metadata": {},
   "outputs": [],
   "source": [
    "import pandas as pd\n",
    "\n",
    "from visualization import view_curve\n",
    "from stats import Distance, SuffixAverage, avg_dist_to_suffix_avg"
   ]
  },
  {
   "cell_type": "markdown",
   "metadata": {},
   "source": [
    "### Quantifying differences between plots"
   ]
  },
  {
   "cell_type": "code",
   "execution_count": null,
   "metadata": {},
   "outputs": [],
   "source": [
    "orth_preds = pd.read_csv('../results/echantinom_orth_preds.csv')\n",
    "orth_preds_x10 = pd.read_csv('../results/echantinom_orth_preds_x10.csv')"
   ]
  },
  {
   "cell_type": "markdown",
   "metadata": {},
   "source": [
    "### Comparison of individual words with average suffix"
   ]
  },
  {
   "cell_type": "code",
   "execution_count": null,
   "metadata": {},
   "outputs": [],
   "source": [
    "word = 'action'\n",
    "suffix = 'ion'\n",
    "gender = 'f'\n",
    "\n",
    "distance = Distance(orth_preds)\n",
    "sfx_avg = SuffixAverage(orth_preds, suffix)\n",
    "sfx_avg_probs = sfx_avg.prob(gender=gender)\n",
    "\n",
    "print(f'Euclidean distance between \"{word}\" and average of all words with suffix \"{suffix}\" : {distance.euclidean(word, sfx_avg_probs):.2f}\\n')\n",
    "\n",
    "view_curve([word], orth_preds, binary=True, gender=gender)\n",
    "sfx_avg.plot(gender=gender)"
   ]
  },
  {
   "cell_type": "code",
   "execution_count": null,
   "metadata": {},
   "outputs": [],
   "source": [
    "suffixes = orth_preds.suffix.value_counts().to_dict()\n",
    "\n",
    "# The selected gender has an impact on the average distances\n",
    "# With gender set to 'f', the feminine suffixes have artificially lower average distances than masculine ones and vice versa \n",
    "\n",
    "df = pd.DataFrame({\n",
    "    'suffix': suffixes.keys(),\n",
    "    'avg_dist_to_suffix_avg': [avg_dist_to_suffix_avg(orth_preds, sfx, 'True', 2) for sfx in suffixes.keys()],\n",
    "    'num_samples': suffixes.values()\n",
    "})\n",
    "\n",
    "df"
   ]
  },
  {
   "cell_type": "markdown",
   "metadata": {},
   "source": [
    "I'm adding to this dataframe:\n",
    "- The number of training items that end in the string corresponding to the suffix\n",
    "- The entropy of gender balance in that set of training items (0=only one gender, 1 = perfectly balanced distribution)"
   ]
  },
  {
   "cell_type": "code",
   "execution_count": null,
   "metadata": {},
   "outputs": [],
   "source": [
    "import numpy as np\n",
    "train=pd.read_csv('../data/orth_train.csv')\n",
    "\n",
    "def sfx_to_ending(s):\n",
    "    if s[-1]=='M' or s[-1]=='F':\n",
    "        return s[:-1]\n",
    "    return s\n",
    "\n",
    "for i in df.index:\n",
    "    ending = sfx_to_ending(df.loc[i,'suffix'])\n",
    "    subset = train[train.lexeme.str.endswith(ending)]\n",
    "    vc = subset.gen.value_counts(normalize=True)\n",
    "    df.loc[i,'train_size'] = len(subset)\n",
    "    df.loc[i,'entropy'] = abs(- np.sum(vc*np.log2(vc)))\n",
    "\n",
    "df"
   ]
  },
  {
   "cell_type": "markdown",
   "metadata": {},
   "source": [
    "We now have expectations that:\n",
    "\n",
    "- All other things being equal, there should be more varation in average distance when the training set is smaller.\n",
    "- All other things being equal, the entropy of the gender balance in the training set should correlate with the average distance.\n",
    "\n",
    "The following figure suggests that this is broadly correct."
   ]
  },
  {
   "cell_type": "code",
   "execution_count": null,
   "metadata": {},
   "outputs": [],
   "source": [
    "import seaborn as sns\n",
    "g = sns.relplot(df[(df.num_samples>5) & (df.suffix!='0')],\n",
    "            x='entropy',\n",
    "            y='avg_dist_to_suffix_avg',\n",
    "           size = 'train_size',\n",
    "            aspect=1.3)\n",
    "g.set(xlabel='Entropy',ylabel='Average Euclidian distance to centroid')\n",
    "g.legend.set_title('Size of\\ntraining set')\n"
   ]
  },
  {
   "cell_type": "markdown",
   "metadata": {},
   "source": [
    "### Comparing the averages of different suffixes"
   ]
  },
  {
   "cell_type": "code",
   "execution_count": null,
   "metadata": {},
   "outputs": [],
   "source": [
    "sfx_a = 'eurM'\n",
    "sfx_b = 'eurF'\n",
    "\n",
    "sfx_a_avg = SuffixAverage(orth_preds, sfx_a)\n",
    "sfx_a_avg_probs = sfx_a_avg.prob(gender='f')\n",
    "\n",
    "sfx_b_avg = SuffixAverage(orth_preds, sfx_b)\n",
    "sfx_b_avg_probs = sfx_b_avg.prob(gender='f')\n",
    "\n",
    "print(f'Euclidean distance between average of all words with suffix \"{sfx_a}\" & average of all word with suffix \"{sfx_b}\": {distance.euclidean(sfx_a_avg_probs, sfx_b_avg_probs):.2f}')\n",
    "\n",
    "sfx_a_avg.plot(gender='f', min_dp=3, scale=True)\n",
    "sfx_b_avg.plot(gender='f', min_dp=3, scale=True)"
   ]
  },
  {
   "cell_type": "code",
   "execution_count": null,
   "metadata": {},
   "outputs": [],
   "source": [
    "sfx_a = 'on'\n",
    "sfx_b = 'ion'\n",
    "\n",
    "sfx_a_avg = SuffixAverage(orth_preds, sfx_a)\n",
    "sfx_a_avg_probs = sfx_a_avg.prob(gender='f')\n",
    "\n",
    "sfx_b_avg = SuffixAverage(orth_preds, sfx_b)\n",
    "sfx_b_avg_probs = sfx_b_avg.prob(gender='f')\n",
    "\n",
    "print(f'Euclidean distance between average of all words with suffix \"{sfx_a}\" & average of all word with suffix \"{sfx_b}\": {distance.euclidean(sfx_a_avg_probs, sfx_b_avg_probs):.2f}')\n",
    "\n",
    "sfx_a_avg.plot(gender='f', min_dp=3, scale=True)\n",
    "sfx_b_avg.plot(gender='f', min_dp=3, scale=True)"
   ]
  }
 ],
 "metadata": {
  "kernelspec": {
   "display_name": "Python 3 (ipykernel)",
   "language": "python",
   "name": "python3"
  },
  "language_info": {
   "codemirror_mode": {
    "name": "ipython",
    "version": 3
   },
   "file_extension": ".py",
   "mimetype": "text/x-python",
   "name": "python",
   "nbconvert_exporter": "python",
   "pygments_lexer": "ipython3",
   "version": "3.10.14"
  }
 },
 "nbformat": 4,
 "nbformat_minor": 4
}
